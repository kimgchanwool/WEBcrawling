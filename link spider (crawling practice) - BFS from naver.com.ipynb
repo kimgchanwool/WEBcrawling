{
 "cells": [
  {
   "cell_type": "code",
   "execution_count": 32,
   "id": "ac4c70de",
   "metadata": {},
   "outputs": [],
   "source": [
    "import requests\n",
    "from bs4 import BeautifulSoup"
   ]
  },
  {
   "cell_type": "code",
   "execution_count": 25,
   "id": "2d226920",
   "metadata": {},
   "outputs": [],
   "source": [
    "def spider(url, used = []):\n",
    "    try:\n",
    "        re = requests.get(url, timeout=1)\n",
    "        soup = BeautifulSoup(re.text)\n",
    "        As = soup.find_all('a')\n",
    "        for a_tag in As[:]:\n",
    "                hyperL = a_tag['href']\n",
    "                if 'http' == hyperL[:4] and hyperL.split('://')[1] and (hyperL.split('://')[1] not in used):\n",
    "                    print(hyperL)\n",
    "                    used.append(hyperL.split('://')[1])\n",
    "                    spider(hyperL, used)\n",
    "    except:\n",
    "        pass"
   ]
  },
  {
   "cell_type": "code",
   "execution_count": null,
   "id": "316c18d6",
   "metadata": {
    "collapsed": true
   },
   "outputs": [
    {
     "name": "stdout",
     "output_type": "stream",
     "text": [
      "https://www.google.co.kr/imghp?hl=ko&tab=wi\n",
      "https://www.google.co.kr/webhp?tab=iw\n",
      "https://maps.google.co.kr/maps?hl=ko&tab=wl\n",
      "https://support.google.com/maps/?hl=ko&authuser=0&p=no_javascript\n",
      "https://play.google.com/?hl=ko&tab=w8\n",
      "https://www.google.co.kr/webhp?tab=8w\n",
      "https://www.youtube.com/?gl=KR&tab=w1\n",
      "https://www.youtube.com/about/\n",
      "https://www.youtube.com/howyoutubeworks/\n",
      "https://www.youtube.com/creators/\n",
      "https://support.google.com/youtube/answer/10343433\n",
      "https://www.google.co.kr/intl/en/about/products?tab=uh\n",
      "https://support.google.com/\n",
      "https://accounts.google.com/ServiceLogin?hl=en&passive=true&continue=http://support.google.com/&ec=GAZAdQ\n",
      "https://accounts.google.com/signin/usernamerecovery?continue=http%3A%2F%2Fsupport.google.com%2F&hl=en\n",
      "https://support.google.com/accounts/troubleshooter/2402620?#ts=2402553\n",
      "https://www.google.com/accounts/TOS\n",
      "https://www.google.co.kr/intl/en/about/products\n",
      "https://cloud.google.com/blog/products/workspace/helping-business-with-new-additions-to-google-workspace/\n",
      "https://cloud.google.com\n",
      "https://safety.google/?utm_medium=contextualpromo&utm_source=google&utm_campaign=swg2021&utm_content=utm%20for%20about.google%20productspage\n",
      "https://myaccount.google.com/\n",
      "https://accounts.google.com/ServiceLogin?service=accountsettings&continue=https://myaccount.google.com%3Futm_source%3Daccount-marketing-page%26utm_medium%3Dgo-to-account-button\n",
      "https://accounts.google.com/signin/usernamerecovery?continue=https%3A%2F%2Fmyaccount.google.com%3Futm_source%3Daccount-marketing-page%26utm_medium%3Dgo-to-account-button&service=accountsettings&hl=ko\n",
      "https://accounts.google.com/TOS?loc=KR&hl=ko&privacy=true\n",
      "https://www.google.co.kr/intl/ko/about/products\n",
      "https://safety.google/products/?utm_medium=contextualpromo&utm_source=google&utm_campaign=swg2021&utm_content=utm%20for%20about.google%20productspage/#search\n",
      "https://support.google.com/websearch/answer/510?hl=en&ref_topic=3425457# aria-label=\n",
      "https://www.google.com/safesearch\n",
      "https://www.google.co.kr/intl/ko/about/products?tab=wh\n",
      "https://safety.google/products?utm_medium=contextualpromo&utm_source=google&utm_campaign=swg2021&utm_content=utm%20for%20about.google%20productspage/#gmail\n",
      "https://landing.google.com/advancedprotection/\n",
      "https://myaccount.google.com/advanced-protection/landing?continue=https://landing.google.com/advancedprotection/\n",
      "https://accounts.google.com/signin/usernamerecovery?continue=https%3A%2F%2Fmyaccount.google.com%2Fadvanced-protection%2Flanding%3Fcontinue%3Dhttps%3A%2F%2Flanding.google.com%2Fadvancedprotection%2F&osid=1&hl=ko\n",
      "https://accounts.google.com/TOS?loc=KR&hl=ko\n",
      "https://accounts.google.com/ServiceLogin?passive=1209600&continue=https://policies.google.com/terms?gl%3DKR%26hl%3Dko&followup=https://policies.google.com/terms?gl%3DKR%26hl%3Dko&hl=ko&ec=GAZAoQQ\n",
      "https://accounts.google.com/signin/usernamerecovery?continue=https%3A%2F%2Fpolicies.google.com%2Fterms%3Fgl%3DKR%26hl%3Dko&hl=ko\n",
      "https://accounts.google.com/AccountChooser?continue=https%3A%2F%2Fpolicies.google.com%2Fterms%3Fgl%3DKR%26hl%3Dko&followup=https%3A%2F%2Fpolicies.google.com%2Fterms%3Fgl%3DKR%26hl%3Dko&hl=ko\n",
      "https://accounts.google.com/AccountChooser?continue=https%3A%2F%2Fpolicies.google.com%2Fterms%3Fgl%3DKR%26hl%3Dko&followup=https%3A%2F%2Fpolicies.google.com%2Fterms%3Fgl%3DKR%26hl%3Dko&hl=ko&rip=1\n",
      "https://accounts.google.com/SignUp?continue=https%3A%2F%2Fpolicies.google.com%2Fterms%3Fgl%3DKR%26hl%3Dko&hl=ko\n",
      "https://support.google.com/accounts?hl=ko\n",
      "https://www.google.co.kr/intl/ko/about/products?tab=uh\n",
      "https://safety.google/products/?utm_medium=contextualpromo&utm_source=google&utm_campaign=swg2021&utm_content=utm%20for%20about.google%20productspage#chrome\n",
      "https://myaccount.google.com/yourdata/maps\n",
      "https://accounts.google.com/signin/usernamerecovery?continue=https%3A%2F%2Fmyaccount.google.com%2Fyourdata%2Fmaps&osid=1&hl=ko\n",
      "https://accounts.google.com/AccountChooser?continue=https%3A%2F%2Fmyaccount.google.com%2Fyourdata%2Fmaps&followup=https%3A%2F%2Fmyaccount.google.com%2Fyourdata%2Fmaps&osid=1\n",
      "https://accounts.google.com/signin/usernamerecovery?continue=https%3A%2F%2Fmyaccount.google.com%2Fyourdata%2Fmaps&hl=ko\n",
      "https://accounts.google.com/AccountChooser?continue=https%3A%2F%2Fmyaccount.google.com%2Fyourdata%2Fmaps&followup=https%3A%2F%2Fmyaccount.google.com%2Fyourdata%2Fmaps&rip=1\n",
      "https://accounts.google.com/SignUp?continue=https%3A%2F%2Fmyaccount.google.com%2Fyourdata%2Fmaps\n",
      "https://www.google.com/intl/ko/about\n",
      "http://www.google.com/support/accounts?hl=ko\n",
      "https://accounts.google.com/ServiceLogin?hl=ko&passive=true&continue=http://support.google.com/accounts/%3Fhl%3Dko&ec=GAZAdQ\n",
      "https://accounts.google.com/signin/usernamerecovery?continue=http%3A%2F%2Fsupport.google.com%2Faccounts%2F%3Fhl%3Dko&hl=ko\n",
      "https://accounts.google.com/AccountChooser?continue=http%3A%2F%2Fsupport.google.com%2Faccounts%2F%3Fhl%3Dko&hl=ko\n",
      "https://accounts.google.com/AccountChooser?continue=http%3A%2F%2Fsupport.google.com%2Faccounts%2F%3Fhl%3Dko&hl=ko&rip=1\n",
      "https://accounts.google.com/SignUp?continue=http%3A%2F%2Fsupport.google.com%2Faccounts%2F%3Fhl%3Dko&hl=ko\n",
      "https://www.google.com/maps/about/\n",
      "https://youtube.com/watch?v=TiK3i37HPyM\n",
      "https://www.youtube.com/about/press/\n"
     ]
    }
   ],
   "source": [
    "spider('https://www.google.com')"
   ]
  },
  {
   "cell_type": "code",
   "execution_count": 9,
   "id": "a6bca1d4",
   "metadata": {},
   "outputs": [],
   "source": [
    "import requests\n",
    "from bs4 import BeautifulSoup\n",
    "import queue"
   ]
  },
  {
   "cell_type": "code",
   "execution_count": 10,
   "id": "8aa15b1c",
   "metadata": {},
   "outputs": [
    {
     "data": {
      "text/plain": [
       "deque([])"
      ]
     },
     "execution_count": 10,
     "metadata": {},
     "output_type": "execute_result"
    }
   ],
   "source": [
    "queue.deque()"
   ]
  },
  {
   "cell_type": "code",
   "execution_count": 41,
   "id": "9576dc28",
   "metadata": {},
   "outputs": [],
   "source": [
    "def spider(url, used = []):\n",
    "        re = requests.get(url, timeout=1)\n",
    "        soup = BeautifulSoup(re.text)\n",
    "        As = soup.find_all('a')\n",
    "        que = queue.deque()\n",
    "        que.extend([a['href'] for a in As if a['href']])\n",
    "        while que:\n",
    "            hyperL = que.popleft() \n",
    "            if 'http' == hyperL[:4] and hyperL.split('://')[1] and (hyperL.split('://')[1] not in used):\n",
    "                used.append(hyperL.split('://')[1])\n",
    "                que.append(hyperL)\n",
    "                print(hyperL)\n",
    "                re = requests.get(url, timeout=1)\n",
    "                soup = BeautifulSoup(re.text)\n",
    "                As = soup.find_all('a')\n",
    "                que.extend([a['href'] for a in As if a['href']])\n",
    "#         for a_tag in As[:]:\n",
    "#                 hyperL = a_tag['href']\n",
    "#                 if 'http' == hyperL[:4] and hyperL.split('://')[1] and (hyperL.split('://')[1] not in used):\n",
    "#                     print(hyperL)\n",
    "#                     used.append(hyperL.split('://')[1])\n",
    "#                     spider(hyperL, used)"
   ]
  },
  {
   "cell_type": "code",
   "execution_count": 42,
   "id": "30e5621e",
   "metadata": {},
   "outputs": [
    {
     "name": "stdout",
     "output_type": "stream",
     "text": [
      "https://www.google.co.kr/imghp?hl=ko&tab=wi\n",
      "https://maps.google.co.kr/maps?hl=ko&tab=wl\n",
      "https://play.google.com/?hl=ko&tab=w8\n",
      "https://www.youtube.com/?gl=KR&tab=w1\n",
      "https://news.google.com/?tab=wn\n",
      "https://mail.google.com/mail/?tab=wm\n",
      "https://drive.google.com/?tab=wo\n",
      "https://www.google.co.kr/intl/ko/about/products?tab=wh\n",
      "http://www.google.co.kr/history/optout?hl=ko\n",
      "https://accounts.google.com/ServiceLogin?hl=ko&passive=true&continue=https://www.google.com/&ec=GAZAAQ\n",
      "http://www.google.co.kr/intl/ko/services/\n",
      "https://www.google.com/setprefdomain?prefdom=KR&prev=https://www.google.co.kr/&sig=K_86louCXVzhY5ZE1NTBM8kpcbWEs%3D\n"
     ]
    }
   ],
   "source": [
    "spider('https://www.google.com')"
   ]
  },
  {
   "cell_type": "code",
   "execution_count": null,
   "id": "e32cf816",
   "metadata": {},
   "outputs": [],
   "source": []
  }
 ],
 "metadata": {
  "kernelspec": {
   "display_name": "Python 3 (ipykernel)",
   "language": "python",
   "name": "python3"
  },
  "language_info": {
   "codemirror_mode": {
    "name": "ipython",
    "version": 3
   },
   "file_extension": ".py",
   "mimetype": "text/x-python",
   "name": "python",
   "nbconvert_exporter": "python",
   "pygments_lexer": "ipython3",
   "version": "3.9.7"
  }
 },
 "nbformat": 4,
 "nbformat_minor": 5
}
